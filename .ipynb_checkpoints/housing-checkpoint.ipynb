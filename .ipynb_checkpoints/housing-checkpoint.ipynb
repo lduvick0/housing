{
 "cells": [
  {
   "cell_type": "code",
   "execution_count": 2,
   "id": "0f656eaa",
   "metadata": {},
   "outputs": [],
   "source": [
    "import pandas as pd"
   ]
  },
  {
   "cell_type": "code",
   "execution_count": 4,
   "id": "ee8a1457",
   "metadata": {
    "scrolled": true
   },
   "outputs": [
    {
     "data": {
      "text/html": [
       "<div>\n",
       "<style scoped>\n",
       "    .dataframe tbody tr th:only-of-type {\n",
       "        vertical-align: middle;\n",
       "    }\n",
       "\n",
       "    .dataframe tbody tr th {\n",
       "        vertical-align: top;\n",
       "    }\n",
       "\n",
       "    .dataframe thead th {\n",
       "        text-align: right;\n",
       "    }\n",
       "</style>\n",
       "<table border=\"1\" class=\"dataframe\">\n",
       "  <thead>\n",
       "    <tr style=\"text-align: right;\">\n",
       "      <th></th>\n",
       "      <th>Order</th>\n",
       "      <th>PID</th>\n",
       "      <th>MS SubClass</th>\n",
       "      <th>MS Zoning</th>\n",
       "      <th>Lot Frontage</th>\n",
       "      <th>Lot Area</th>\n",
       "      <th>Street</th>\n",
       "      <th>Alley</th>\n",
       "      <th>Lot Shape</th>\n",
       "      <th>Land Contour</th>\n",
       "      <th>...</th>\n",
       "      <th>Pool Area</th>\n",
       "      <th>Pool QC</th>\n",
       "      <th>Fence</th>\n",
       "      <th>Misc Feature</th>\n",
       "      <th>Misc Val</th>\n",
       "      <th>Mo Sold</th>\n",
       "      <th>Yr Sold</th>\n",
       "      <th>Sale Type</th>\n",
       "      <th>Sale Condition</th>\n",
       "      <th>SalePrice</th>\n",
       "    </tr>\n",
       "  </thead>\n",
       "  <tbody>\n",
       "    <tr>\n",
       "      <th>0</th>\n",
       "      <td>1</td>\n",
       "      <td>526301100</td>\n",
       "      <td>20</td>\n",
       "      <td>RL</td>\n",
       "      <td>141.0</td>\n",
       "      <td>31770</td>\n",
       "      <td>Pave</td>\n",
       "      <td>NaN</td>\n",
       "      <td>IR1</td>\n",
       "      <td>Lvl</td>\n",
       "      <td>...</td>\n",
       "      <td>0</td>\n",
       "      <td>NaN</td>\n",
       "      <td>NaN</td>\n",
       "      <td>NaN</td>\n",
       "      <td>0</td>\n",
       "      <td>5</td>\n",
       "      <td>2010</td>\n",
       "      <td>WD</td>\n",
       "      <td>Normal</td>\n",
       "      <td>215000</td>\n",
       "    </tr>\n",
       "    <tr>\n",
       "      <th>1</th>\n",
       "      <td>2</td>\n",
       "      <td>526350040</td>\n",
       "      <td>20</td>\n",
       "      <td>RH</td>\n",
       "      <td>80.0</td>\n",
       "      <td>11622</td>\n",
       "      <td>Pave</td>\n",
       "      <td>NaN</td>\n",
       "      <td>Reg</td>\n",
       "      <td>Lvl</td>\n",
       "      <td>...</td>\n",
       "      <td>0</td>\n",
       "      <td>NaN</td>\n",
       "      <td>MnPrv</td>\n",
       "      <td>NaN</td>\n",
       "      <td>0</td>\n",
       "      <td>6</td>\n",
       "      <td>2010</td>\n",
       "      <td>WD</td>\n",
       "      <td>Normal</td>\n",
       "      <td>105000</td>\n",
       "    </tr>\n",
       "    <tr>\n",
       "      <th>2</th>\n",
       "      <td>3</td>\n",
       "      <td>526351010</td>\n",
       "      <td>20</td>\n",
       "      <td>RL</td>\n",
       "      <td>81.0</td>\n",
       "      <td>14267</td>\n",
       "      <td>Pave</td>\n",
       "      <td>NaN</td>\n",
       "      <td>IR1</td>\n",
       "      <td>Lvl</td>\n",
       "      <td>...</td>\n",
       "      <td>0</td>\n",
       "      <td>NaN</td>\n",
       "      <td>NaN</td>\n",
       "      <td>Gar2</td>\n",
       "      <td>12500</td>\n",
       "      <td>6</td>\n",
       "      <td>2010</td>\n",
       "      <td>WD</td>\n",
       "      <td>Normal</td>\n",
       "      <td>172000</td>\n",
       "    </tr>\n",
       "    <tr>\n",
       "      <th>3</th>\n",
       "      <td>4</td>\n",
       "      <td>526353030</td>\n",
       "      <td>20</td>\n",
       "      <td>RL</td>\n",
       "      <td>93.0</td>\n",
       "      <td>11160</td>\n",
       "      <td>Pave</td>\n",
       "      <td>NaN</td>\n",
       "      <td>Reg</td>\n",
       "      <td>Lvl</td>\n",
       "      <td>...</td>\n",
       "      <td>0</td>\n",
       "      <td>NaN</td>\n",
       "      <td>NaN</td>\n",
       "      <td>NaN</td>\n",
       "      <td>0</td>\n",
       "      <td>4</td>\n",
       "      <td>2010</td>\n",
       "      <td>WD</td>\n",
       "      <td>Normal</td>\n",
       "      <td>244000</td>\n",
       "    </tr>\n",
       "    <tr>\n",
       "      <th>4</th>\n",
       "      <td>5</td>\n",
       "      <td>527105010</td>\n",
       "      <td>60</td>\n",
       "      <td>RL</td>\n",
       "      <td>74.0</td>\n",
       "      <td>13830</td>\n",
       "      <td>Pave</td>\n",
       "      <td>NaN</td>\n",
       "      <td>IR1</td>\n",
       "      <td>Lvl</td>\n",
       "      <td>...</td>\n",
       "      <td>0</td>\n",
       "      <td>NaN</td>\n",
       "      <td>MnPrv</td>\n",
       "      <td>NaN</td>\n",
       "      <td>0</td>\n",
       "      <td>3</td>\n",
       "      <td>2010</td>\n",
       "      <td>WD</td>\n",
       "      <td>Normal</td>\n",
       "      <td>189900</td>\n",
       "    </tr>\n",
       "  </tbody>\n",
       "</table>\n",
       "<p>5 rows × 82 columns</p>\n",
       "</div>"
      ],
      "text/plain": [
       "   Order        PID  MS SubClass MS Zoning  Lot Frontage  Lot Area Street  \\\n",
       "0      1  526301100           20        RL         141.0     31770   Pave   \n",
       "1      2  526350040           20        RH          80.0     11622   Pave   \n",
       "2      3  526351010           20        RL          81.0     14267   Pave   \n",
       "3      4  526353030           20        RL          93.0     11160   Pave   \n",
       "4      5  527105010           60        RL          74.0     13830   Pave   \n",
       "\n",
       "  Alley Lot Shape Land Contour  ... Pool Area Pool QC  Fence Misc Feature  \\\n",
       "0   NaN       IR1          Lvl  ...         0     NaN    NaN          NaN   \n",
       "1   NaN       Reg          Lvl  ...         0     NaN  MnPrv          NaN   \n",
       "2   NaN       IR1          Lvl  ...         0     NaN    NaN         Gar2   \n",
       "3   NaN       Reg          Lvl  ...         0     NaN    NaN          NaN   \n",
       "4   NaN       IR1          Lvl  ...         0     NaN  MnPrv          NaN   \n",
       "\n",
       "  Misc Val Mo Sold Yr Sold Sale Type  Sale Condition  SalePrice  \n",
       "0        0       5    2010       WD           Normal     215000  \n",
       "1        0       6    2010       WD           Normal     105000  \n",
       "2    12500       6    2010       WD           Normal     172000  \n",
       "3        0       4    2010       WD           Normal     244000  \n",
       "4        0       3    2010       WD           Normal     189900  \n",
       "\n",
       "[5 rows x 82 columns]"
      ]
     },
     "metadata": {},
     "output_type": "display_data"
    }
   ],
   "source": [
    "file_path='AmesHousing.csv'\n",
    "df= pd.read_csv(file_path)\n",
    "display(df.head())"
   ]
  },
  {
   "cell_type": "code",
   "execution_count": 9,
   "id": "fab19495",
   "metadata": {},
   "outputs": [
    {
     "name": "stdout",
     "output_type": "stream",
     "text": [
      "755000\n",
      "12789\n"
     ]
    }
   ],
   "source": [
    "pricedf=df[\"SalePrice\"].max()\n",
    "pricedfmin=df[\"SalePrice\"].min()\n",
    "print(pricedf)\n",
    "print(pricedfmin)"
   ]
  },
  {
   "cell_type": "code",
   "execution_count": 33,
   "id": "6c8bc774",
   "metadata": {},
   "outputs": [
    {
     "name": "stdout",
     "output_type": "stream",
     "text": [
      "0       31770\n",
      "1       11622\n",
      "2       14267\n",
      "3       11160\n",
      "4       13830\n",
      "        ...  \n",
      "2925     7937\n",
      "2926     8885\n",
      "2927    10441\n",
      "2928    10010\n",
      "2929     9627\n",
      "Name: Lot Area, Length: 2930, dtype: int64\n"
     ]
    }
   ],
   "source": [
    "pricecatdf=df[\"Lot Area\"]\n",
    "print(pricecatdf)"
   ]
  },
  {
   "cell_type": "code",
   "execution_count": 13,
   "id": "06e09177",
   "metadata": {},
   "outputs": [
    {
     "name": "stdout",
     "output_type": "stream",
     "text": [
      "4\n"
     ]
    }
   ],
   "source": [
    "yeardf=df[\"Yr Sold\"].max()-df[\"Yr Sold\"].min()\n",
    "print(yeardf)"
   ]
  },
  {
   "cell_type": "code",
   "execution_count": 30,
   "id": "cb5d438a",
   "metadata": {},
   "outputs": [
    {
     "name": "stdout",
     "output_type": "stream",
     "text": [
      "2930\n"
     ]
    }
   ],
   "source": [
    "homesdf=df[\"Yr Sold\"].shape[0]\n",
    "print(homesdf)"
   ]
  },
  {
   "cell_type": "code",
   "execution_count": 21,
   "id": "c390a402",
   "metadata": {},
   "outputs": [
    {
     "name": "stdout",
     "output_type": "stream",
     "text": [
      "490\n"
     ]
    }
   ],
   "source": [
    "lotfdf=df[\"Lot Frontage\"].isnull().sum().sum()\n",
    "print(lotfdf)"
   ]
  },
  {
   "cell_type": "code",
   "execution_count": 22,
   "id": "35d95506",
   "metadata": {},
   "outputs": [
    {
     "name": "stdout",
     "output_type": "stream",
     "text": [
      "2732\n",
      "198\n"
     ]
    }
   ],
   "source": [
    "alleydf=df[\"Alley\"].isna().sum()\n",
    "alleydf2=df[\"Alley\"].count()\n",
    "print(alleydf)\n",
    "print(alleydf2)"
   ]
  },
  {
   "cell_type": "code",
   "execution_count": 24,
   "id": "9411c6bd",
   "metadata": {},
   "outputs": [
    {
     "name": "stdout",
     "output_type": "stream",
     "text": [
      "     Order        PID  MS SubClass MS Zoning  Lot Frontage  Lot Area Street  \\\n",
      "4        5  527105010           60        RL          74.0     13830   Pave   \n",
      "5        6  527105030           60        RL          78.0      9978   Pave   \n",
      "9       10  527162130           60        RL          60.0      7500   Pave   \n",
      "10      11  527163010           60        RL          75.0     10000   Pave   \n",
      "11      12  527165230           20        RL           NaN      7980   Pave   \n",
      "12      13  527166040           60        RL          63.0      8402   Pave   \n",
      "13      14  527180040           20        RL          85.0     10176   Pave   \n",
      "16      17  527225035           50        RL         152.0     12134   Pave   \n",
      "18      19  527276150           20        RL         140.0     19138   Pave   \n",
      "51      52  528218150           20        RL         100.0     18494   Pave   \n",
      "54      55  528231020           80        RL          67.0     13300   Pave   \n",
      "55      56  528240070           60        RL           NaN      7851   Pave   \n",
      "56      57  528240130           60        RL          63.0      8577   Pave   \n",
      "57      58  528250100           80        RL           NaN      7750   Pave   \n",
      "58      59  528292020           60        RL           NaN      9505   Pave   \n",
      "344    345  527105070           60        RL          88.0     10179   Pave   \n",
      "345    346  527105130           60        RL           NaN     11792   Pave   \n",
      "346    347  527107130           80        RL          60.0      8400   Pave   \n",
      "347    348  527108070           20        RL          42.0     14892   Pave   \n",
      "348    349  527110020           80        RL           NaN      8530   Pave   \n",
      "353    354  527161040           80        RL          57.0      8923   Pave   \n",
      "354    355  527162110           60        RL          74.0     10141   Pave   \n",
      "355    356  527162120           60        RL          60.0      7500   Pave   \n",
      "356    357  527163040           60        RL          59.0      7837   Pave   \n",
      "357    358  527163070           60        RL           NaN      9765   Pave   \n",
      "358    359  527163130           60        RL           NaN      8803   Pave   \n",
      "359    360  527164020           20        RL          58.0      7250   Pave   \n",
      "360    361  527164060           60        RL           NaN      9636   Pave   \n",
      "361    362  527164090           60        RL          65.0      8125   Pave   \n",
      "362    363  527165130           20        RL           NaN      9248   Pave   \n",
      "363    364  527166010           60        RL           NaN     10762   Pave   \n",
      "364    365  527180100           20        RL          99.0     11851   Pave   \n",
      "369    370  527276160           60        RL          85.0     11900   Pave   \n",
      "464    465  528218090           60        RL          63.0     10928   Pave   \n",
      "465    466  528220040           60        RL          57.0      8918   Pave   \n",
      "466    467  528221060           60        RL         149.0     12589   Pave   \n",
      "467    468  528221070           60        RL         122.0     11911   Pave   \n",
      "474    475  528235010           60        RL          71.0      7795   Pave   \n",
      "475    476  528235090           60        RL           NaN      8068   Pave   \n",
      "476    477  528235200           80        RL          59.0      9434   Pave   \n",
      "477    478  528240030           60        RL          62.0      7984   Pave   \n",
      "478    479  528240060           80        RL           NaN      7750   Pave   \n",
      "479    480  528240150           60        RL          61.0     10125   Pave   \n",
      "480    481  528250020           60        RL           NaN      8965   Pave   \n",
      "481    482  528250040           60        RL           NaN      8174   Pave   \n",
      "483    484  528275070           60        RL           NaN      8795   Pave   \n",
      "484    485  528275160           60        RL           NaN     12891   Pave   \n",
      "485    486  528280230           60        RL           NaN     12224   Pave   \n",
      "486    487  528290030           80        RL          61.0      9734   Pave   \n",
      "487    488  528290120           60        RL          60.0      8123   Pave   \n",
      "488    489  528290180           60        RL          42.0      8433   Pave   \n",
      "489    490  528290190           80        RL          62.0      7750   Pave   \n",
      "490    491  528292030           60        RL           NaN     15896   Pave   \n",
      "491    492  528292040           60        RL           NaN     24682   Pave   \n",
      "492    493  528292070           60        RL           NaN      8755   Pave   \n",
      "493    494  528294050           80        RL          64.0      7848   Pave   \n",
      "\n",
      "    Alley Lot Shape Land Contour  ... Pool Area Pool QC  Fence Misc Feature  \\\n",
      "4     NaN       IR1          Lvl  ...         0     NaN  MnPrv          NaN   \n",
      "5     NaN       IR1          Lvl  ...         0     NaN    NaN          NaN   \n",
      "9     NaN       Reg          Lvl  ...         0     NaN    NaN          NaN   \n",
      "10    NaN       IR1          Lvl  ...         0     NaN    NaN          NaN   \n",
      "11    NaN       IR1          Lvl  ...         0     NaN  GdPrv         Shed   \n",
      "12    NaN       IR1          Lvl  ...         0     NaN    NaN          NaN   \n",
      "13    NaN       Reg          Lvl  ...         0     NaN    NaN          NaN   \n",
      "16    NaN       IR1          Bnk  ...         0     NaN    NaN          NaN   \n",
      "18    NaN       Reg          Lvl  ...         0     NaN    NaN          NaN   \n",
      "51    NaN       IR1          Lvl  ...         0     NaN    NaN          NaN   \n",
      "54    NaN       IR1          Lvl  ...         0     NaN    NaN          NaN   \n",
      "55    NaN       Reg          Lvl  ...         0     NaN    NaN          NaN   \n",
      "56    NaN       IR1          Lvl  ...         0     NaN    NaN          NaN   \n",
      "57    NaN       IR1          Lvl  ...         0     NaN    NaN          NaN   \n",
      "58    NaN       IR1          Lvl  ...         0     NaN    NaN          NaN   \n",
      "344   NaN       IR1          Lvl  ...         0     NaN    NaN          NaN   \n",
      "345   NaN       IR1          Lvl  ...         0     NaN    NaN          NaN   \n",
      "346   NaN       Reg          Lvl  ...         0     NaN    NaN         Shed   \n",
      "347   NaN       IR1          HLS  ...         0     NaN    NaN          NaN   \n",
      "348   NaN       IR1          Lvl  ...         0     NaN    NaN         Shed   \n",
      "353   NaN       IR1          Lvl  ...         0     NaN    NaN          NaN   \n",
      "354   NaN       IR1          Lvl  ...         0     NaN    NaN          NaN   \n",
      "355   NaN       Reg          Lvl  ...         0     NaN    NaN          NaN   \n",
      "356   NaN       IR1          Lvl  ...         0     NaN    NaN          NaN   \n",
      "357   NaN       IR2          Lvl  ...         0     NaN    NaN         Shed   \n",
      "358   NaN       IR1          Lvl  ...         0     NaN    NaN          NaN   \n",
      "359   NaN       Reg          Lvl  ...         0     NaN    NaN          NaN   \n",
      "360   NaN       IR1          Lvl  ...         0     NaN  MnPrv          NaN   \n",
      "361   NaN       Reg          Lvl  ...         0     NaN    NaN          NaN   \n",
      "362   NaN       IR1          Lvl  ...         0     NaN    NaN          NaN   \n",
      "363   NaN       IR1          Lvl  ...         0     NaN    NaN          NaN   \n",
      "364   NaN       Reg          Lvl  ...         0     NaN    NaN          NaN   \n",
      "369   NaN       Reg          Lvl  ...         0     NaN    NaN          NaN   \n",
      "464   NaN       Reg          Lvl  ...         0     NaN    NaN          NaN   \n",
      "465   NaN       IR1          Lvl  ...         0     NaN    NaN          NaN   \n",
      "466   NaN       IR2          Lvl  ...         0     NaN    NaN          NaN   \n",
      "467   NaN       IR2          Lvl  ...         0     NaN    NaN          NaN   \n",
      "474   NaN       IR1          Lvl  ...         0     NaN    NaN          NaN   \n",
      "475   NaN       IR1          Lvl  ...         0     NaN    NaN          NaN   \n",
      "476   NaN       IR1          Lvl  ...         0     NaN    NaN          NaN   \n",
      "477   NaN       IR1          Lvl  ...         0     NaN    NaN          NaN   \n",
      "478   NaN       Reg          Lvl  ...         0     NaN    NaN          NaN   \n",
      "479   NaN       IR1          Lvl  ...         0     NaN  MnPrv          NaN   \n",
      "480   NaN       IR1          Lvl  ...         0     NaN    NaN          NaN   \n",
      "481   NaN       IR1          Lvl  ...         0     NaN    NaN          NaN   \n",
      "483   NaN       IR1          Lvl  ...         0     NaN    NaN          NaN   \n",
      "484   NaN       IR1          Lvl  ...         0     NaN    NaN          NaN   \n",
      "485   NaN       IR1          Lvl  ...         0     NaN    NaN          NaN   \n",
      "486   NaN       IR1          Lvl  ...         0     NaN    NaN          NaN   \n",
      "487   NaN       IR1          Lvl  ...         0     NaN    NaN          NaN   \n",
      "488   NaN       IR1          Lvl  ...         0     NaN    NaN          NaN   \n",
      "489   NaN       Reg          Lvl  ...         0     NaN    NaN          NaN   \n",
      "490   NaN       IR2          Lvl  ...         0     NaN    NaN          NaN   \n",
      "491   NaN       IR3          Lvl  ...         0     NaN    NaN          NaN   \n",
      "492   NaN       IR1          Lvl  ...         0     NaN  GdPrv          NaN   \n",
      "493   NaN       IR1          Lvl  ...         0     NaN    NaN          NaN   \n",
      "\n",
      "    Misc Val Mo Sold Yr Sold Sale Type  Sale Condition  SalePrice  \n",
      "4          0       3    2010       WD           Normal     189900  \n",
      "5          0       6    2010       WD           Normal     195500  \n",
      "9          0       6    2010       WD           Normal     189000  \n",
      "10         0       4    2010       WD           Normal     175900  \n",
      "11       500       3    2010       WD           Normal     185000  \n",
      "12         0       5    2010       WD           Normal     180400  \n",
      "13         0       2    2010       WD           Normal     171500  \n",
      "16         0       6    2010       WD           Normal     164000  \n",
      "18         0       6    2010       WD           Normal     141000  \n",
      "51         0       1    2010       WD           Normal     199500  \n",
      "54         0       6    2010       WD           Normal     184500  \n",
      "55         0       5    2010       WD           Normal     216500  \n",
      "56         0       4    2010       WD           Normal     185088  \n",
      "57         0       4    2010       WD           Normal     180000  \n",
      "58         0       5    2010       WD           Normal     222500  \n",
      "344        0       7    2009       WD           Normal     189500  \n",
      "345        0       8    2009       WD           Normal     270000  \n",
      "346      490       6    2009       WD           Normal     189000  \n",
      "347        0      10    2009       WD           Normal     377500  \n",
      "348      700       5    2009       WD           Normal     168500  \n",
      "353        0       2    2009       WD           Normal     177500  \n",
      "354        0      12    2009       WD           Normal     185000  \n",
      "355        0      10    2009       WD           Normal     191000  \n",
      "356        0       5    2009       WD           Normal     178000  \n",
      "357      480       4    2009       WD           Normal     185000  \n",
      "358        0       7    2009       WD           Normal     181316  \n",
      "359        0      11    2009       WD           Normal     166000  \n",
      "360        0      12    2009       WD           Normal     178000  \n",
      "361        0       3    2009       WD           Normal     174000  \n",
      "362        0       7    2009       WD           Normal     173000  \n",
      "363        0       5    2009       WD           Normal     225000  \n",
      "364        0       5    2009       WD           Normal     180500  \n",
      "369        0       7    2009       WD           Normal     185000  \n",
      "464        0       6    2009       WD           Normal     184000  \n",
      "465        0       7    2009       WD           Normal     167800  \n",
      "466        0       6    2009       WD           Normal     174000  \n",
      "467        0       3    2009       WD           Normal     174000  \n",
      "474        0       7    2009       WD           Normal     188500  \n",
      "475        0      12    2009     ConLI          Normal     200000  \n",
      "476        0       8    2009       WD           Normal     170000  \n",
      "477        0       9    2009       WD           Normal     189500  \n",
      "478        0       3    2009       WD           Normal     184100  \n",
      "479        0       7    2009       WD           Normal     195500  \n",
      "480        0       6    2009       WD           Normal     192000  \n",
      "481        0       5    2009       WD           Normal     178000  \n",
      "483        0       4    2009       WD           Normal     236000  \n",
      "484        0       7    2009       WD           Normal     257500  \n",
      "485        0       7    2009       WD           Normal     244000  \n",
      "486        0       5    2009       WD           Normal     167000  \n",
      "487        0       6    2009       WD           Normal     179000  \n",
      "488        0       6    2009       WD           Normal     190000  \n",
      "489        0       3    2009       WD           Normal     156000  \n",
      "490        0       5    2009       WD           Normal     245000  \n",
      "491        0       6    2009       WD           Normal     181000  \n",
      "492        0       6    2009       WD           Normal     214000  \n",
      "493        0       6    2009       WD           Normal     168000  \n",
      "\n",
      "[56 rows x 82 columns]\n"
     ]
    }
   ],
   "source": [
    "homegdf=df[(df['Neighborhood']=='Gilbert') &(df['Yr Sold'].isin([2009,2010]))]\n",
    "print(homegdf)"
   ]
  },
  {
   "cell_type": "code",
   "execution_count": 29,
   "id": "f66d52b3",
   "metadata": {},
   "outputs": [
    {
     "name": "stdout",
     "output_type": "stream",
     "text": [
      "15\n"
     ]
    }
   ],
   "source": [
    "homegdf2=df[(df['Neighborhood']=='Gilbert') &(df['Yr Sold'].isin([2010]))].shape[0]\n",
    "print(homegdf2)"
   ]
  },
  {
   "cell_type": "code",
   "execution_count": 32,
   "id": "b6fd3797",
   "metadata": {},
   "outputs": [
    {
     "name": "stdout",
     "output_type": "stream",
     "text": [
      "11160\n"
     ]
    }
   ],
   "source": [
    "print(df.iat[3,5])"
   ]
  },
  {
   "cell_type": "code",
   "execution_count": null,
   "id": "105236fc",
   "metadata": {},
   "outputs": [],
   "source": []
  }
 ],
 "metadata": {
  "kernelspec": {
   "display_name": "Python 3 (ipykernel)",
   "language": "python",
   "name": "python3"
  },
  "language_info": {
   "codemirror_mode": {
    "name": "ipython",
    "version": 3
   },
   "file_extension": ".py",
   "mimetype": "text/x-python",
   "name": "python",
   "nbconvert_exporter": "python",
   "pygments_lexer": "ipython3",
   "version": "3.11.5"
  }
 },
 "nbformat": 4,
 "nbformat_minor": 5
}
